{
  "cells": [
    {
      "cell_type": "code",
      "execution_count": null,
      "metadata": {
        "id": "wjurpt4KJmCh",
        "outputId": "f0065e17-c947-4f8d-a0dd-25e870e8250b"
      },
      "outputs": [],
      "source": [
        "!wget --no-check-certificate 'https://docs.google.com/uc?export=download&id=1OKFSv2GpuUFDphO0r8LdM7bl6MAWwBfX' -O data.csv"
      ]
    },
    {
      "cell_type": "markdown",
      "metadata": {
        "id": "aBZhr_dw6HAn"
      },
      "source": [
        "### Описание датасета\n",
        "\n",
        "Короткое описание данных:\n",
        "```\n",
        "price: sale price (this is the target variable)\n",
        "id: transaction id\n",
        "timestamp: date of transaction\n",
        "full_sq: total area in square meters, including loggias, balconies and other non-residential areas\n",
        "life_sq: living area in square meters, excluding loggias, balconies and other non-residential areas\n",
        "floor: for apartments, floor of the building\n",
        "max_floor: number of floors in the building\n",
        "material: wall material\n",
        "build_year: year built\n",
        "num_room: number of living rooms\n",
        "kitch_sq: kitchen area\n",
        "state: apartment condition\n",
        "product_type: owner-occupier purchase or investment\n",
        "sub_area: name of the district\n",
        "\n",
        "The dataset also includes a collection of features about each property's surrounding neighbourhood, and some features that are constant across each sub area (known as a Raion). Most of the feature names are self explanatory, with the following notes. See below for a complete list.\n",
        "\n",
        "full_all: subarea population\n",
        "male_f, female_f: subarea population by gender\n",
        "young_*: population younger than working age\n",
        "work_*: working-age population\n",
        "ekder_*: retirement-age population\n",
        "n_m_{all|male|female}: population between n and m years old\n",
        "build_count_*: buildings in the subarea by construction type or year\n",
        "x_count_500: the number of x within 500m of the property\n",
        "x_part_500: the share of x within 500m of the property\n",
        "_sqm_: square meters\n",
        "cafe_count_d_price_p: number of cafes within d meters of the property that have an average bill under p RUB\n",
        "trc_: shopping malls\n",
        "prom_: industrial zones\n",
        "green_: green zones\n",
        "metro_: subway\n",
        "_avto_: distances by car\n",
        "mkad_: Moscow Circle Auto Road\n",
        "ttk_: Third Transport Ring\n",
        "sadovoe_: Garden Ring\n",
        "bulvar_ring_: Boulevard Ring\n",
        "kremlin_: City center\n",
        "zd_vokzaly_: Train station\n",
        "oil_chemistry_: Dirty industry\n",
        "ts_: Power plant\n",
        "```"
      ]
    },
    {
      "cell_type": "markdown",
      "metadata": {
        "id": "TOPtM_06uyqv"
      },
      "source": [
        "### Setup"
      ]
    },
    {
      "cell_type": "code",
      "execution_count": null,
      "metadata": {
        "id": "9TpHMcn3u0MV"
      },
      "outputs": [],
      "source": [
        "import pandas as pd"
      ]
    },
    {
      "cell_type": "code",
      "execution_count": null,
      "metadata": {
        "id": "-TLkVG3EwJzj"
      },
      "outputs": [],
      "source": [
        "df = pd.read_csv(\"train.csv\", parse_dates=[\"timestamp\"])"
      ]
    },
    {
      "cell_type": "markdown",
      "metadata": {
        "id": "znjwH9_mx3fZ"
      },
      "source": [
        "Разделите имеющиеся у вас данные на обучающую и тестовую выборки. В качестве обучающей выборки возьмите первые 80% данных, последние 20% - тестовая выборка."
      ]
    },
    {
      "cell_type": "code",
      "execution_count": null,
      "metadata": {
        "id": "O8HcPe7ZyEIv"
      },
      "outputs": [],
      "source": [
        "drop_columns = [\n",
        "    'id',           # May leak information  # May leak information\n",
        "]\n",
        "cat_columns = [\n",
        "    'product_type',              #\n",
        "    'material',                  # Material of the wall\n",
        "    'state',                     # Satisfaction level\n",
        "    'sub_area',                  # District name\n",
        "    'culture_objects_top_25',    #\n",
        "    'thermal_power_plant_raion', #\n",
        "    'incineration_raion',        #\n",
        "    'oil_chemistry_raion',       #\n",
        "    'radiation_raion',           #\n",
        "    'railroad_terminal_raion',   #\n",
        "    'big_market_raion',          #\n",
        "    'nuclear_reactor_raion',     #\n",
        "    'detention_facility_raion',  #\n",
        "    'ID_metro',                  #\n",
        "    'ID_railroad_station_walk',  #\n",
        "    'ID_railroad_station_avto',  #\n",
        "    'water_1line',               #\n",
        "    'ID_big_road1',              #\n",
        "    'big_road1_1line',           #\n",
        "    'ID_big_road2',              #\n",
        "    'railroad_1line',            #\n",
        "    'ID_railroad_terminal',      #\n",
        "    'ID_bus_terminal',           #\n",
        "    'ecology',                   #\n",
        "]\n",
        "num_columns = list(set(df.columns).difference(set(cat_columns + drop_columns + ['price'])))"
      ]
    },
    {
      "cell_type": "code",
      "execution_count": null,
      "metadata": {
        "id": "uK0_6plzyEIv"
      },
      "outputs": [],
      "source": [
        "from sklearn.impute import SimpleImputer\n",
        "import numpy as np"
      ]
    },
    {
      "cell_type": "code",
      "execution_count": null,
      "metadata": {
        "id": "Uy6Tj3u9yEIv"
      },
      "outputs": [],
      "source": [
        "def clear(df):\n",
        "    new = df.drop('id', axis=1)\n",
        "    new['Investment'] = (new['product_type'] == 'Investment').astype(int)\n",
        "    imputer = SimpleImputer(strategy='median')\n",
        "    new['material'] = pd.Series(imputer.fit_transform(np.array(df['material']).reshape(-1, 1)).reshape(-1))\n",
        "    new['state'] = pd.Series(imputer.fit_transform(np.array(df['state']).reshape(-1, 1)).reshape(-1))\n",
        "    new = new.drop('sub_area', axis=1)\n",
        "    new['culture_objects_top_25'] = (new['culture_objects_top_25'] == 'yes').astype(int)\n",
        "    new['thermal_power_plant_raion'] = (new['thermal_power_plant_raion'] == 'yes').astype(int)\n",
        "    new['incineration_raion'] = (new['incineration_raion'] == 'yes').astype(int)\n",
        "    new['oil_chemistry_raion'] = (new['oil_chemistry_raion'] == 'yes').astype(int)\n",
        "    new['radiation_raion'] = (new['radiation_raion'] == 'yes').astype(int)\n",
        "    new['railroad_terminal_raion'] = (new['railroad_terminal_raion'] == 'yes').astype(int)\n",
        "    new['big_market_raion'] = (new['big_market_raion'] == 'yes').astype(int)\n",
        "    new['nuclear_reactor_raion'] = (new['nuclear_reactor_raion'] == 'yes').astype(int)\n",
        "    new['detention_facility_raion'] = (new['detention_facility_raion'] == 'yes').astype(int)\n",
        "    new['water_1line'] = (new['water_1line'] == 'yes').astype(int)\n",
        "    new['big_road1_1line'] = (new['big_road1_1line'] == 'yes').astype(int)\n",
        "    new['railroad_1line'] = (new['railroad_1line'] == 'yes').astype(int)\n",
        "    new = new.drop(['product_type', 'ID_railroad_station_walk'], axis=1)\n",
        "    '''new = new.drop(['product_type', 'ID_metro', 'ID_railroad_station_walk',\n",
        "    'ID_railroad_station_avto', 'ID_big_road1', 'ID_big_road2',\n",
        "    'ID_railroad_terminal', 'ID_bus_terminal'], axis=1)'''\n",
        "    new = pd.concat([new, pd.get_dummies(df['ecology'])], axis=1).drop('ecology', axis=1)\n",
        "    for column in num_columns:\n",
        "        imputer = SimpleImputer(strategy='median')\n",
        "        new[column] = pd.Series(imputer.fit_transform(np.array(new[column]).reshape(-1, 1)).reshape(-1))\n",
        "    return new"
      ]
    },
    {
      "cell_type": "code",
      "execution_count": null,
      "metadata": {
        "id": "7kHCvg2ZyEIv"
      },
      "outputs": [],
      "source": [
        "my_df = clear(df)"
      ]
    },
    {
      "cell_type": "code",
      "execution_count": null,
      "metadata": {
        "id": "hwfNR565wMKN"
      },
      "outputs": [],
      "source": [
        "from sklearn.model_selection import train_test_split\n",
        "X = my_df.drop('price', axis=1)\n",
        "y = my_df['price']\n",
        "X_train, X_test, y_train, y_test = train_test_split(X, y, test_size=0.2, random_state=1)"
      ]
    },
    {
      "cell_type": "markdown",
      "metadata": {
        "id": "pL4dJJwZP86w"
      },
      "source": [
        "Возможно в ваших моделях вам придется указывать, какие колонки являются категориальными (например, в бустингах). Для упрощения предлагается разделить колонки по следующему принципу:\n",
        "```\n",
        "drop_columns = [\n",
        "    'id',           # May leak information\n",
        "    'timestamp',    # May leak information\n",
        "]\n",
        "cat_columns = [\n",
        "    'product_type',              #\n",
        "    'material',                  # Material of the wall\n",
        "    'state',                     # Satisfaction level\n",
        "    'sub_area',                  # District name\n",
        "    'culture_objects_top_25',    #\n",
        "    'thermal_power_plant_raion', #\n",
        "    'incineration_raion',        #\n",
        "    'oil_chemistry_raion',       #\n",
        "    'radiation_raion',           #\n",
        "    'railroad_terminal_raion',   #\n",
        "    'big_market_raion',          #\n",
        "    'nuclear_reactor_raion',     #\n",
        "    'detention_facility_raion',  #\n",
        "    'ID_metro',                  #\n",
        "    'ID_railroad_station_walk',  #\n",
        "    'ID_railroad_station_avto',  #\n",
        "    'water_1line',               #\n",
        "    'ID_big_road1',              #\n",
        "    'big_road1_1line',           #\n",
        "    'ID_big_road2',              #\n",
        "    'railroad_1line',            #\n",
        "    'ID_railroad_terminal',      #\n",
        "    'ID_bus_terminal',           #\n",
        "    'ecology',                   #\n",
        "]\n",
        "num_columns = list(set(df.columns).difference(set(cat_columns + drop_columns)))\n",
        "```"
      ]
    },
    {
      "cell_type": "markdown",
      "metadata": {
        "id": "oiOby6hNu92W"
      },
      "source": [
        "### Baseline\n",
        "\n",
        "В качестве Baseline обучим `DecisionTreeRegressor` из `sklearn`."
      ]
    },
    {
      "cell_type": "code",
      "execution_count": null,
      "metadata": {
        "id": "MpRbJB4jyEIw"
      },
      "outputs": [],
      "source": [
        "from sklearn.tree import DecisionTreeRegressor"
      ]
    },
    {
      "cell_type": "code",
      "execution_count": null,
      "metadata": {
        "id": "gJIDf3kn1Wfv"
      },
      "outputs": [],
      "source": [
        "model = DecisionTreeRegressor()\n",
        "model.fit(X_train, y_train)\n",
        "predict = model.predict(X_test)"
      ]
    },
    {
      "cell_type": "markdown",
      "metadata": {
        "id": "XUC7NFhw1X41"
      },
      "source": [
        "Проверим качество на отложенной выборке."
      ]
    },
    {
      "cell_type": "code",
      "execution_count": null,
      "metadata": {
        "id": "O_LCiQIN1bzD"
      },
      "outputs": [],
      "source": [
        "from sklearn.metrics import mean_squared_error\n",
        "mean_squared_error(y_test, predict, squared=False)"
      ]
    },
    {
      "cell_type": "markdown",
      "metadata": {
        "id": "3bezBBI7u_oF"
      },
      "source": [
        "### Feature Engineering\n",
        "\n",
        "Часто улучшить модель можно с помощью аккуратного Feature Engineering.\n",
        "\n",
        "Добавим в модель дополнительные признаки:\n",
        "* \"Как часто в этот год и этот месяц появлились объявления\"\n",
        "* \"Как часто в этот год и эту неделю появлялись объявления\""
      ]
    },
    {
      "cell_type": "code",
      "execution_count": null,
      "metadata": {
        "id": "_cJ6SBqUKC4C"
      },
      "outputs": [],
      "source": [
        "month_year = (df.timestamp.dt.month + df.timestamp.dt.year * 100)\n",
        "month_year_cnt_map = month_year.value_counts().to_dict()\n",
        "df[\"month_year_cnt\"] = month_year.map(month_year_cnt_map)\n",
        "\n",
        "week_year = (df.timestamp.dt.weekofyear + df.timestamp.dt.year * 100)\n",
        "week_year_cnt_map = week_year.value_counts().to_dict()\n",
        "df[\"week_year_cnt\"] = week_year.map(week_year_cnt_map)"
      ]
    },
    {
      "cell_type": "markdown",
      "metadata": {
        "id": "pCajk45_KDSz"
      },
      "source": [
        "Добавим следюущие дополнительные признаки:\n",
        "* Месяц (из колонки `timestamp`)\n",
        "* День недели (из колонки `timestamp`)\n",
        "* Отношение \"этаж / максимальный этаж в здании\" (колонки `floor` и `max_floor`)\n",
        "* Отношение \"площадь кухни / площадь квартиры\" (колонки `kitchen_sq` и `full_sq`)"
      ]
    },
    {
      "cell_type": "code",
      "execution_count": null,
      "metadata": {
        "id": "lxlnKwI-yEIx"
      },
      "outputs": [],
      "source": [
        "import datetime"
      ]
    },
    {
      "cell_type": "code",
      "execution_count": null,
      "metadata": {
        "id": "dXZkoUL8Kve6"
      },
      "outputs": [],
      "source": [
        "def new_features(df):\n",
        "    new = clear(df)\n",
        "    month_year = (df.timestamp.dt.month + df.timestamp.dt.year * 100)\n",
        "    month_year_cnt_map = month_year.value_counts().to_dict()\n",
        "    new[\"month_year_cnt\"] = month_year.map(month_year_cnt_map)\n",
        "\n",
        "    week_year = (df.timestamp.dt.weekofyear + df.timestamp.dt.year * 100)\n",
        "    week_year_cnt_map = week_year.value_counts().to_dict()\n",
        "    new[\"week_year_cnt\"] = week_year.map(week_year_cnt_map)\n",
        "\n",
        "    new['mounth'] = df['timestamp'].dt.month\n",
        "    new['weekday'] = df['timestamp'].apply(lambda x: x.weekday())\n",
        "    new['max_floor'] = new['max_floor'].apply(lambda x: -1 if x == 0 else x)\n",
        "    new['full_sq'] = new['full_sq'].apply(lambda x: -1 if x == 0 else x)\n",
        "    new['floor/max_floor'] = new['floor'] / new['max_floor']\n",
        "    new['floor/max_floor'] = new['floor/max_floor'].fillna(0)\n",
        "    new['kitch_sq/full_sq'] = new['kitch_sq'] / new['full_sq']\n",
        "    new['kitch_sq/full_sq'] = new['kitch_sq/full_sq'].fillna(0)\n",
        "    new = new.drop('timestamp', axis=1)\n",
        "\n",
        "    return new"
      ]
    },
    {
      "cell_type": "markdown",
      "metadata": {
        "id": "_-jCowvWLiXZ"
      },
      "source": [
        "Разделим выборку на обучающую и тестовую еще раз (потому что дополнительные признаки созданы для исходной выборки)."
      ]
    },
    {
      "cell_type": "code",
      "execution_count": null,
      "metadata": {
        "id": "0f-vO3LcLhdf"
      },
      "outputs": [],
      "source": [
        "my_df = new_features(df)\n",
        "X = my_df.drop('price', axis=1)\n",
        "y = my_df['price']\n",
        "X_train, X_test, y_train, y_test = train_test_split(X, y, test_size=0.2)"
      ]
    },
    {
      "cell_type": "code",
      "execution_count": null,
      "metadata": {
        "id": "Fvidkh3ZyEIy",
        "outputId": "95056638-4c54-41bd-fafa-583a39243e5b"
      },
      "outputs": [
        {
          "data": {
            "text/plain": [
              "0"
            ]
          },
          "execution_count": 29,
          "metadata": {},
          "output_type": "execute_result"
        }
      ],
      "source": [
        "my_df.isna().sum().sum()"
      ]
    },
    {
      "cell_type": "markdown",
      "metadata": {
        "id": "CPtzkpFEvBw9"
      },
      "source": [
        "### Model Selection\n",
        "\n",
        "Посмотрии, какого качества можно добиться если использовать разные модели:\n",
        "* `DecisionTreeRegressor` из `sklearn`\n",
        "* `RandomForestRegressor` из `sklearn`\n",
        "* `CatBoostRegressor`"
      ]
    },
    {
      "cell_type": "markdown",
      "metadata": {
        "id": "E2FsHDaWyEIy"
      },
      "source": [
        " # Decision Tree Regressor"
      ]
    },
    {
      "cell_type": "code",
      "execution_count": null,
      "metadata": {
        "id": "R26e_PaYyEIy"
      },
      "outputs": [],
      "source": [
        "from sklearn.model_selection import GridSearchCV"
      ]
    },
    {
      "cell_type": "code",
      "execution_count": null,
      "metadata": {
        "id": "JM7WTH7RyEIy"
      },
      "outputs": [],
      "source": [
        "grid_params = {'max_depth': range(4, 20, 1),\n",
        "               'min_samples_split': range(7, 20, 3),\n",
        "               'min_samples_leaf': range(7, 20, 3)}\n",
        "dtr_grid = GridSearchCV(estimator=DecisionTreeRegressor(), param_grid=grid_params, cv=3)\n",
        "dtr_grid.fit(X_train, y_train)"
      ]
    },
    {
      "cell_type": "code",
      "execution_count": null,
      "metadata": {
        "id": "XffCzBAAyEIz",
        "outputId": "ef52e71c-b848-4f6e-bc05-6fea3428b6fb"
      },
      "outputs": [
        {
          "data": {
            "text/plain": [
              "DecisionTreeRegressor(max_depth=8, min_samples_leaf=19, min_samples_split=7)"
            ]
          },
          "execution_count": 85,
          "metadata": {},
          "output_type": "execute_result"
        }
      ],
      "source": [
        "dtr_grid.best_estimator_"
      ]
    },
    {
      "cell_type": "code",
      "execution_count": null,
      "metadata": {
        "id": "6tQbIBynyEIz"
      },
      "outputs": [],
      "source": [
        "dtr = DecisionTreeRegressor(max_depth=8, min_samples_leaf=19, min_samples_split=7)\n",
        "dtr.fit(X_train, y_train)\n",
        "predict_dtr = dtr.predict(X_test)"
      ]
    },
    {
      "cell_type": "code",
      "execution_count": null,
      "metadata": {
        "id": "rvQWEpO7yEIz",
        "outputId": "938873f4-306f-49e0-afcf-4335f8d8dcd2"
      },
      "outputs": [
        {
          "data": {
            "text/plain": [
              "2912110.0035656523"
            ]
          },
          "execution_count": 68,
          "metadata": {},
          "output_type": "execute_result"
        }
      ],
      "source": [
        "mean_squared_error(y_test, predict_dtr, squared=False)"
      ]
    },
    {
      "cell_type": "markdown",
      "metadata": {
        "id": "f3_W7JjvyEIz"
      },
      "source": [
        "# CatBoost"
      ]
    },
    {
      "cell_type": "code",
      "execution_count": null,
      "metadata": {
        "id": "KAOz0fjryEIz",
        "outputId": "c7ed99c0-3e27-4da9-bc0b-40a0a092772d"
      },
      "outputs": [
        {
          "name": "stdout",
          "output_type": "stream",
          "text": [
            "Requirement already satisfied: catboost in c:\\users\\mityk\\anaconda3\\lib\\site-packages (1.0.3)\n",
            "Requirement already satisfied: pandas>=0.24.0 in c:\\users\\mityk\\anaconda3\\lib\\site-packages (from catboost) (1.0.5)\n",
            "Requirement already satisfied: six in c:\\users\\mityk\\anaconda3\\lib\\site-packages (from catboost) (1.15.0)\n",
            "Requirement already satisfied: plotly in c:\\users\\mityk\\anaconda3\\lib\\site-packages (from catboost) (5.3.1)\n",
            "Requirement already satisfied: graphviz in c:\\users\\mityk\\anaconda3\\lib\\site-packages (from catboost) (0.19)\n",
            "Requirement already satisfied: numpy>=1.16.0 in c:\\users\\mityk\\anaconda3\\lib\\site-packages (from catboost) (1.19.5)\n",
            "Requirement already satisfied: matplotlib in c:\\users\\mityk\\anaconda3\\lib\\site-packages (from catboost) (3.2.2)\n",
            "Requirement already satisfied: scipy in c:\\users\\mityk\\anaconda3\\lib\\site-packages (from catboost) (1.5.0)\n",
            "Requirement already satisfied: python-dateutil>=2.6.1 in c:\\users\\mityk\\anaconda3\\lib\\site-packages (from pandas>=0.24.0->catboost) (2.8.1)\n",
            "Requirement already satisfied: pytz>=2017.2 in c:\\users\\mityk\\anaconda3\\lib\\site-packages (from pandas>=0.24.0->catboost) (2020.1)\n",
            "Requirement already satisfied: tenacity>=6.2.0 in c:\\users\\mityk\\anaconda3\\lib\\site-packages (from plotly->catboost) (8.0.1)\n",
            "Requirement already satisfied: kiwisolver>=1.0.1 in c:\\users\\mityk\\anaconda3\\lib\\site-packages (from matplotlib->catboost) (1.2.0)\n",
            "Requirement already satisfied: cycler>=0.10 in c:\\users\\mityk\\anaconda3\\lib\\site-packages (from matplotlib->catboost) (0.10.0)\n",
            "Requirement already satisfied: pyparsing!=2.0.4,!=2.1.2,!=2.1.6,>=2.0.1 in c:\\users\\mityk\\anaconda3\\lib\\site-packages (from matplotlib->catboost) (2.4.7)\n"
          ]
        }
      ],
      "source": [
        "!pip install catboost"
      ]
    },
    {
      "cell_type": "code",
      "execution_count": null,
      "metadata": {
        "id": "PZstXx6uNRfE"
      },
      "outputs": [],
      "source": [
        "from sklearn.ensemble import RandomForestRegressor\n",
        "from sklearn.model_selection import GridSearchCV\n",
        "from catboost import CatBoostRegressor\n",
        "from catboost import Pool, cv"
      ]
    },
    {
      "cell_type": "code",
      "execution_count": null,
      "metadata": {
        "colab": {
          "referenced_widgets": [
            "b48460a8f449406fa917af5a28a5d594"
          ]
        },
        "id": "vjxPDLZFyEIz",
        "outputId": "3254fde6-b9a7-4bc2-e690-82347ff46686"
      },
      "outputs": [],
      "source": [
        "cat = CatBoostRegressor()\n",
        "cat_params = {'learning_rate': np.arange(0.2, 0.55, 0.05),\n",
        "        'depth': range(5, 10, 1),\n",
        "        'l2_leaf_reg': [1, 3]}\n",
        "grid_result = cat.grid_search(cat_params, X=X_train, y=y_train, plot=True, cv=3)\n"
      ]
    },
    {
      "cell_type": "code",
      "execution_count": null,
      "metadata": {
        "colab": {
          "referenced_widgets": [
            "29f10ac416394aab9c7365ca68935a6c"
          ]
        },
        "id": "q6huyCHZyEJE",
        "outputId": "0a063618-0a58-4a95-b598-add507620d12"
      },
      "outputs": [
        {
          "data": {
            "application/vnd.jupyter.widget-view+json": {
              "model_id": "29f10ac416394aab9c7365ca68935a6c",
              "version_major": 2,
              "version_minor": 0
            },
            "text/plain": [
              "MetricVisualizer(layout=Layout(align_self='stretch', height='500px'))"
            ]
          },
          "metadata": {},
          "output_type": "display_data"
        },
        {
          "name": "stdout",
          "output_type": "stream",
          "text": [
            "Training on fold [0/3]\n",
            "\n",
            "bestTest = 2648052.074\n",
            "bestIteration = 71\n",
            "\n",
            "Training on fold [1/3]\n",
            "\n",
            "bestTest = 2803778.148\n",
            "bestIteration = 77\n",
            "\n",
            "Training on fold [2/3]\n",
            "\n",
            "bestTest = 2600340.952\n",
            "bestIteration = 97\n",
            "\n"
          ]
        }
      ],
      "source": [
        "from catboost import Pool, cv\n",
        "params = {\"iterations\": 100,\n",
        "          \"depth\": 7,\n",
        "          \"loss_function\": \"RMSE\",\n",
        "          \"verbose\": False,\n",
        "          \"learning_rate\": 0.2,\n",
        "          'l2_leaf_reg': 1}\n",
        "cv_dataset = Pool(data=X_train,\n",
        "                  label=y_train)\n",
        "scores = cv(cv_dataset,\n",
        "            params,\n",
        "            fold_count=3,\n",
        "            plot=\"True\")"
      ]
    },
    {
      "cell_type": "code",
      "execution_count": null,
      "metadata": {
        "id": "DjEsw6wzyEJE"
      },
      "outputs": [],
      "source": [
        "from sklearn.metrics import mean_squared_error\n",
        "cat = CatBoostRegressor(depth=7, learning_rate=0.2, l2_leaf_reg=1, iterations=90)\n",
        "cat.fit(X_train, y_train, verbose=False)\n",
        "predict_cat = cat.predict(X_test)\n",
        "mean_squared_error(y_test, predict_cat, squared=False)"
      ]
    },
    {
      "cell_type": "markdown",
      "metadata": {
        "id": "AWuW61hdyEJE"
      },
      "source": [
        "# RandomForest"
      ]
    },
    {
      "cell_type": "code",
      "execution_count": null,
      "metadata": {
        "id": "xc82SgG-yEJE"
      },
      "outputs": [],
      "source": [
        "from sklearn.ensemble import RandomForestRegressor\n",
        "from sklearn.model_selection import GridSearchCV\n"
      ]
    },
    {
      "cell_type": "code",
      "execution_count": null,
      "metadata": {
        "id": "JK_fORpxyEJF"
      },
      "outputs": [],
      "source": [
        "grid_params = {'n_estimators': range(30, 50, 5),\n",
        "               'max_depth': range(10, 22, 3)}"
      ]
    },
    {
      "cell_type": "code",
      "execution_count": null,
      "metadata": {
        "id": "B3S0TXSfyEJF"
      },
      "outputs": [],
      "source": [
        "grid = GridSearchCV(estimator=RandomForestRegressor(), param_grid=grid_params, cv=3)"
      ]
    },
    {
      "cell_type": "code",
      "execution_count": null,
      "metadata": {
        "id": "1T_oB45TyEJF",
        "outputId": "10582e47-1bcb-4cc6-f528-54c7d2347d97"
      },
      "outputs": [
        {
          "data": {
            "text/plain": [
              "GridSearchCV(cv=3, estimator=RandomForestRegressor(),\n",
              "             param_grid={'max_depth': range(10, 22, 3),\n",
              "                         'n_estimators': range(30, 50, 5)})"
            ]
          },
          "execution_count": 27,
          "metadata": {},
          "output_type": "execute_result"
        }
      ],
      "source": [
        "grid.fit(X_train, y_train)"
      ]
    },
    {
      "cell_type": "code",
      "execution_count": null,
      "metadata": {
        "id": "5yXfMs2ByEJF",
        "outputId": "6a7af6d4-8068-4ce8-a913-814989651555"
      },
      "outputs": [
        {
          "data": {
            "text/plain": [
              "RandomForestRegressor(max_depth=19, n_estimators=40)"
            ]
          },
          "execution_count": 123,
          "metadata": {},
          "output_type": "execute_result"
        }
      ],
      "source": [
        "grid.best_estimator_"
      ]
    },
    {
      "cell_type": "code",
      "execution_count": null,
      "metadata": {
        "id": "4vIBMn04yEJF",
        "outputId": "1767a354-9711-4808-bba9-045173aabdf4"
      },
      "outputs": [
        {
          "data": {
            "text/plain": [
              "2476517.2335063405"
            ]
          },
          "execution_count": 70,
          "metadata": {},
          "output_type": "execute_result"
        }
      ],
      "source": [
        "from sklearn.metrics import mean_squared_error\n",
        "rfc = RandomForestRegressor(max_depth=25, n_estimators=40)\n",
        "rfc.fit(X_train, y_train)\n",
        "predict_rfc = rfc.predict(X_test)\n",
        "mean_squared_error(y_test, predict_rfc, squared=False)"
      ]
    },
    {
      "cell_type": "markdown",
      "metadata": {
        "id": "JxQnozbtvD6x"
      },
      "source": [
        "### Ensemble\n",
        "\n"
      ]
    },
    {
      "cell_type": "code",
      "execution_count": null,
      "metadata": {
        "id": "q99yt0PpyEJF"
      },
      "outputs": [],
      "source": [
        "time_train_df = X_train.copy()\n",
        "time_train_df['price'] = y_train\n",
        "time_test_df = X_test.copy()\n",
        "time_test_df['price'] = y_test"
      ]
    },
    {
      "cell_type": "code",
      "execution_count": null,
      "metadata": {
        "id": "HeJOCYa-O_VE"
      },
      "outputs": [],
      "source": [
        "inv_train_df = time_train_df[time_train_df['Investment'] == 1]\n",
        "own_train_df = time_train_df[time_train_df['Investment'] == 0]\n",
        "inv_test_df = time_test_df[time_test_df['Investment'] == 1]\n",
        "own_test_df = time_test_df[time_test_df['Investment'] == 0]\n",
        "X_inv_train = inv_train_df.drop('price', axis=1)\n",
        "y_inv_train = inv_train_df['price']\n",
        "X_own_train = own_train_df.drop('price', axis=1)\n",
        "y_own_train = own_train_df['price']\n",
        "X_inv_test = inv_test_df.drop('price', axis=1)\n",
        "y_inv_test = inv_test_df['price']\n",
        "X_own_test = own_test_df.drop('price', axis=1)\n",
        "y_own_test = own_test_df['price']"
      ]
    },
    {
      "cell_type": "code",
      "execution_count": null,
      "metadata": {
        "colab": {
          "referenced_widgets": [
            "5ec7897d79ba407784a2260dc28db0d8"
          ]
        },
        "id": "PMpXXcW5yEJG",
        "outputId": "7a69f140-3aa4-4f0b-d08e-b2e883bdef2a"
      },
      "outputs": [],
      "source": [
        "cat_inv = CatBoostRegressor()\n",
        "cat_params = {'learning_rate': np.arange(0.2, 0.31, 0.02),\n",
        "        'depth': range(3, 6, 1),\n",
        "        'l2_leaf_reg': [1]}\n",
        "grid_result = cat_inv.grid_search(cat_params, X=X_own_train, y=y_own_train, plot=True, cv=3)"
      ]
    },
    {
      "cell_type": "code",
      "execution_count": null,
      "metadata": {
        "colab": {
          "referenced_widgets": [
            "8cb0f13d30464985b8a4cd1514bc869b"
          ]
        },
        "id": "qNIvkLDIyEJG",
        "outputId": "79d2a996-4146-4400-d0d8-a084fe10b36a"
      },
      "outputs": [],
      "source": [
        "cat_own = CatBoostRegressor()\n",
        "cat_params = {'learning_rate': np.arange(0.2, 0.31, 0.02),\n",
        "        'depth': range(5, ),\n",
        "        'l2_leaf_reg': [1]}\n",
        "grid_result = cat_own.grid_search(cat_params, X=X_own_train, y=y_own_train, plot=True, cv=3)"
      ]
    },
    {
      "cell_type": "code",
      "execution_count": null,
      "metadata": {
        "id": "AQqkjj6fyEJH",
        "outputId": "fd42a1e6-c53d-4619-b46b-0824943b5a9d"
      },
      "outputs": [],
      "source": [
        "model_invest_cat = CatBoostRegressor(depth=4, learning_rate=0.22, l2_leaf_reg=1, iterations=100)\n",
        "model_owner_cat = CatBoostRegressor(depth=5, learning_rate=0.22, l2_leaf_reg=1, iterations=100)\n",
        "model_invest_cat.fit(X_inv_train, y_inv_train)\n",
        "model_owner_cat.fit(X_own_train, y_own_train)\n",
        "pred_inv_cat = model_invest_cat.predict(X_inv_test)\n",
        "pred_own_cat = model_owner_cat.predict(X_own_test)"
      ]
    },
    {
      "cell_type": "code",
      "execution_count": null,
      "metadata": {
        "id": "B2enXJ8GyEJH",
        "outputId": "95e0880a-36f6-47e6-8750-5b8e4873923b"
      },
      "outputs": [
        {
          "data": {
            "text/plain": [
              "2279619.6285880893"
            ]
          },
          "execution_count": 128,
          "metadata": {},
          "output_type": "execute_result"
        }
      ],
      "source": [
        "y_test_full = pd.concat((y_inv_test, y_own_test))\n",
        "pred_cat = pd.concat((pd.Series(pred_inv_cat), pd.Series(pred_own_cat)))\n",
        "mean_squared_error(pred_cat, y_test_full, squared=False)"
      ]
    },
    {
      "cell_type": "code",
      "execution_count": null,
      "metadata": {
        "id": "1YswC9mfyEJH"
      },
      "outputs": [],
      "source": [
        "model_invest_rfc = RandomForestRegressor(max_depth=25, n_estimators=40)\n",
        "model_owner_rfc = RandomForestRegressor(max_depth=25, n_estimators=40)\n",
        "model_invest_rfc.fit(X_inv_train, y_inv_train)\n",
        "model_owner_rfc.fit(X_own_train, y_own_train)\n",
        "pred_inv_rfc = model_invest_rfc.predict(X_inv_test)\n",
        "pred_own_rfc = model_owner_rfc.predict(X_own_test)"
      ]
    },
    {
      "cell_type": "code",
      "execution_count": null,
      "metadata": {
        "id": "5t5N1z10yEJH",
        "outputId": "17958200-a12c-4160-a931-634aeb2f3aa3"
      },
      "outputs": [
        {
          "data": {
            "text/plain": [
              "2404475.869837812"
            ]
          },
          "execution_count": 77,
          "metadata": {},
          "output_type": "execute_result"
        }
      ],
      "source": [
        "pred_rfc = pd.concat((pd.Series(pred_inv_rfc), pd.Series(pred_own_rfc)))\n",
        "mean_squared_error(pred_rfc, y_test_full, squared=False)"
      ]
    },
    {
      "cell_type": "markdown",
      "metadata": {
        "id": "J8t-klaK2A6s"
      },
      "source": [
        "### Ensemble v.2\n",
        "\n",
        "Попробуем сделать для `Investment` более сложную модель: обучим `CatBoostRegressor` и `HuberRegressor` из `sklearn`, а затем сложим их предсказания с весами `w_1` и `w_2` (сумма весов равняется 1)."
      ]
    },
    {
      "cell_type": "code",
      "execution_count": null,
      "metadata": {
        "id": "Q9PCg3R5yEJI"
      },
      "outputs": [],
      "source": [
        "from sklearn.linear_model import HuberRegressor\n",
        "from sklearn.pipeline import Pipeline\n",
        "from sklearn.preprocessing import StandardScaler"
      ]
    },
    {
      "cell_type": "code",
      "execution_count": null,
      "metadata": {
        "id": "WgB3etdDyEJI"
      },
      "outputs": [],
      "source": [
        "pipe = Pipeline([('scale', StandardScaler()),\n",
        "                ('model', HuberRegressor())])"
      ]
    },
    {
      "cell_type": "code",
      "execution_count": null,
      "metadata": {
        "id": "Ve5NiXoyyEJI",
        "outputId": "70df980a-eaad-4229-de2f-1b9c9b3b6478"
      },
      "outputs": [
        {
          "data": {
            "text/plain": [
              "GridSearchCV(cv=5,\n",
              "             estimator=Pipeline(steps=[('scale', StandardScaler()),\n",
              "                                       ('model', HuberRegressor())]),\n",
              "             param_grid={'model__alpha': array([0.1, 0.2, 0.3, 0.4, 0.5, 0.6, 0.7, 0.8, 0.9]),\n",
              "                         'model__max_iter': [200]})"
            ]
          },
          "execution_count": 194,
          "metadata": {},
          "output_type": "execute_result"
        }
      ],
      "source": [
        "hreg_grid = GridSearchCV(estimator=pipe,\n",
        "                                   param_grid={'model__alpha': np.arange(0.1, 1, 0.1),\n",
        "                                              'model__max_iter': [200]}, cv=5)\n",
        "hreg_grid.fit(X_inv_train, y_inv_train)"
      ]
    },
    {
      "cell_type": "code",
      "execution_count": null,
      "metadata": {
        "id": "Ly9wMhQfyEJI",
        "outputId": "472c00be-c64f-443c-9329-adf1b9436001"
      },
      "outputs": [
        {
          "data": {
            "text/plain": [
              "Pipeline(steps=[('scale', StandardScaler()),\n",
              "                ('model', HuberRegressor(alpha=0.9, max_iter=200))])"
            ]
          },
          "execution_count": 196,
          "metadata": {},
          "output_type": "execute_result"
        }
      ],
      "source": [
        "hreg_grid.best_estimator_"
      ]
    },
    {
      "cell_type": "code",
      "execution_count": null,
      "metadata": {
        "id": "0DU_gGUdyEJI"
      },
      "outputs": [],
      "source": [
        "cat_invest = CatBoostRegressor(depth=4, learning_rate=0.22, l2_leaf_reg=1, iterations=100)\n",
        "hreg_invest = HuberRegressor(alpha=0.9, max_iter=200)"
      ]
    },
    {
      "cell_type": "code",
      "execution_count": null,
      "metadata": {
        "id": "YLRkdxevyEJI"
      },
      "outputs": [],
      "source": [
        "scaler = StandardScaler()"
      ]
    },
    {
      "cell_type": "code",
      "execution_count": null,
      "metadata": {
        "id": "OKOwBQ1PyEJI",
        "outputId": "f980dca2-6bf6-4ae2-93aa-5d5cd246211d"
      },
      "outputs": [
        {
          "name": "stdout",
          "output_type": "stream",
          "text": [
            "0:\tlearn: 4456756.3996694\ttotal: 25.3ms\tremaining: 2.51s\n",
            "1:\tlearn: 4132535.0142035\ttotal: 36.5ms\tremaining: 1.79s\n",
            "2:\tlearn: 3895016.4411115\ttotal: 46.8ms\tremaining: 1.51s\n",
            "3:\tlearn: 3718488.3272484\ttotal: 57.5ms\tremaining: 1.38s\n",
            "4:\tlearn: 3585043.9496839\ttotal: 68.9ms\tremaining: 1.31s\n",
            "5:\tlearn: 3482803.7536905\ttotal: 79ms\tremaining: 1.24s\n",
            "6:\tlearn: 3396750.1257881\ttotal: 90.4ms\tremaining: 1.2s\n",
            "7:\tlearn: 3325578.7033125\ttotal: 101ms\tremaining: 1.16s\n",
            "8:\tlearn: 3261525.6284291\ttotal: 112ms\tremaining: 1.13s\n",
            "9:\tlearn: 3216327.1020316\ttotal: 121ms\tremaining: 1.09s\n",
            "10:\tlearn: 3171184.4273811\ttotal: 132ms\tremaining: 1.07s\n",
            "11:\tlearn: 3131297.9810085\ttotal: 142ms\tremaining: 1.04s\n",
            "12:\tlearn: 3093900.8805505\ttotal: 152ms\tremaining: 1.02s\n",
            "13:\tlearn: 3059619.1748973\ttotal: 163ms\tremaining: 998ms\n",
            "14:\tlearn: 3040223.3047236\ttotal: 173ms\tremaining: 978ms\n",
            "15:\tlearn: 3026540.8225273\ttotal: 183ms\tremaining: 962ms\n",
            "16:\tlearn: 3004149.1530020\ttotal: 194ms\tremaining: 947ms\n",
            "17:\tlearn: 2991467.3167421\ttotal: 203ms\tremaining: 927ms\n",
            "18:\tlearn: 2980197.8901269\ttotal: 216ms\tremaining: 921ms\n",
            "19:\tlearn: 2960833.8313946\ttotal: 228ms\tremaining: 910ms\n",
            "20:\tlearn: 2946703.4804521\ttotal: 240ms\tremaining: 902ms\n",
            "21:\tlearn: 2931808.8400066\ttotal: 251ms\tremaining: 891ms\n",
            "22:\tlearn: 2916567.8725037\ttotal: 264ms\tremaining: 885ms\n",
            "23:\tlearn: 2906116.6821786\ttotal: 276ms\tremaining: 874ms\n",
            "24:\tlearn: 2899822.9081659\ttotal: 286ms\tremaining: 858ms\n",
            "25:\tlearn: 2888773.2892079\ttotal: 295ms\tremaining: 840ms\n",
            "26:\tlearn: 2881391.8827048\ttotal: 306ms\tremaining: 827ms\n",
            "27:\tlearn: 2872608.7929964\ttotal: 315ms\tremaining: 811ms\n",
            "28:\tlearn: 2866406.5068302\ttotal: 326ms\tremaining: 799ms\n",
            "29:\tlearn: 2859318.2363082\ttotal: 337ms\tremaining: 786ms\n",
            "30:\tlearn: 2844702.8443232\ttotal: 347ms\tremaining: 772ms\n",
            "31:\tlearn: 2834726.7280680\ttotal: 357ms\tremaining: 759ms\n",
            "32:\tlearn: 2829862.7190414\ttotal: 368ms\tremaining: 747ms\n",
            "33:\tlearn: 2817812.7089723\ttotal: 378ms\tremaining: 733ms\n",
            "34:\tlearn: 2814129.8076555\ttotal: 389ms\tremaining: 722ms\n",
            "35:\tlearn: 2807608.7187340\ttotal: 399ms\tremaining: 710ms\n",
            "36:\tlearn: 2802038.8481217\ttotal: 410ms\tremaining: 698ms\n",
            "37:\tlearn: 2797293.0919868\ttotal: 421ms\tremaining: 686ms\n",
            "38:\tlearn: 2785205.8086097\ttotal: 432ms\tremaining: 676ms\n",
            "39:\tlearn: 2777932.1982451\ttotal: 443ms\tremaining: 664ms\n",
            "40:\tlearn: 2768607.5679728\ttotal: 454ms\tremaining: 653ms\n",
            "41:\tlearn: 2759898.7946489\ttotal: 465ms\tremaining: 642ms\n",
            "42:\tlearn: 2753471.9279427\ttotal: 474ms\tremaining: 629ms\n",
            "43:\tlearn: 2745988.8355631\ttotal: 485ms\tremaining: 617ms\n",
            "44:\tlearn: 2740519.7217842\ttotal: 496ms\tremaining: 606ms\n",
            "45:\tlearn: 2727801.8789430\ttotal: 506ms\tremaining: 594ms\n",
            "46:\tlearn: 2719273.9361896\ttotal: 517ms\tremaining: 583ms\n",
            "47:\tlearn: 2713905.8348584\ttotal: 527ms\tremaining: 571ms\n",
            "48:\tlearn: 2710241.1513700\ttotal: 537ms\tremaining: 559ms\n",
            "49:\tlearn: 2703394.3680063\ttotal: 547ms\tremaining: 547ms\n",
            "50:\tlearn: 2694798.5591806\ttotal: 557ms\tremaining: 535ms\n",
            "51:\tlearn: 2689887.4583957\ttotal: 568ms\tremaining: 524ms\n",
            "52:\tlearn: 2682050.8734110\ttotal: 580ms\tremaining: 514ms\n",
            "53:\tlearn: 2676432.5991416\ttotal: 591ms\tremaining: 504ms\n",
            "54:\tlearn: 2671804.1441131\ttotal: 603ms\tremaining: 493ms\n",
            "55:\tlearn: 2667079.0802806\ttotal: 614ms\tremaining: 482ms\n",
            "56:\tlearn: 2663577.8098555\ttotal: 625ms\tremaining: 471ms\n",
            "57:\tlearn: 2655895.0462435\ttotal: 634ms\tremaining: 459ms\n",
            "58:\tlearn: 2648292.4973029\ttotal: 645ms\tremaining: 449ms\n",
            "59:\tlearn: 2642124.6604032\ttotal: 656ms\tremaining: 438ms\n",
            "60:\tlearn: 2635115.5341617\ttotal: 667ms\tremaining: 427ms\n",
            "61:\tlearn: 2633709.4753136\ttotal: 677ms\tremaining: 415ms\n",
            "62:\tlearn: 2627172.6217385\ttotal: 688ms\tremaining: 404ms\n",
            "63:\tlearn: 2622158.5303591\ttotal: 699ms\tremaining: 393ms\n",
            "64:\tlearn: 2617923.6703172\ttotal: 710ms\tremaining: 382ms\n",
            "65:\tlearn: 2612316.9673032\ttotal: 722ms\tremaining: 372ms\n",
            "66:\tlearn: 2606353.5249965\ttotal: 732ms\tremaining: 361ms\n",
            "67:\tlearn: 2599294.0611908\ttotal: 745ms\tremaining: 351ms\n",
            "68:\tlearn: 2595436.6109800\ttotal: 757ms\tremaining: 340ms\n",
            "69:\tlearn: 2590105.0686750\ttotal: 772ms\tremaining: 331ms\n",
            "70:\tlearn: 2586259.7907102\ttotal: 783ms\tremaining: 320ms\n",
            "71:\tlearn: 2582924.0095224\ttotal: 795ms\tremaining: 309ms\n",
            "72:\tlearn: 2578087.4256992\ttotal: 808ms\tremaining: 299ms\n",
            "73:\tlearn: 2573085.7893341\ttotal: 820ms\tremaining: 288ms\n",
            "74:\tlearn: 2568373.0718836\ttotal: 834ms\tremaining: 278ms\n",
            "75:\tlearn: 2563963.5386085\ttotal: 845ms\tremaining: 267ms\n",
            "76:\tlearn: 2559204.5717297\ttotal: 858ms\tremaining: 256ms\n",
            "77:\tlearn: 2555935.3899975\ttotal: 869ms\tremaining: 245ms\n",
            "78:\tlearn: 2549703.0069555\ttotal: 881ms\tremaining: 234ms\n",
            "79:\tlearn: 2544696.9930884\ttotal: 891ms\tremaining: 223ms\n",
            "80:\tlearn: 2540995.4329450\ttotal: 902ms\tremaining: 212ms\n",
            "81:\tlearn: 2537998.3792754\ttotal: 913ms\tremaining: 200ms\n",
            "82:\tlearn: 2536311.7774408\ttotal: 922ms\tremaining: 189ms\n",
            "83:\tlearn: 2531543.2299982\ttotal: 934ms\tremaining: 178ms\n",
            "84:\tlearn: 2528856.0117444\ttotal: 945ms\tremaining: 167ms\n",
            "85:\tlearn: 2524187.1127106\ttotal: 956ms\tremaining: 156ms\n",
            "86:\tlearn: 2519443.1293220\ttotal: 968ms\tremaining: 145ms\n",
            "87:\tlearn: 2515866.7417888\ttotal: 983ms\tremaining: 134ms\n",
            "88:\tlearn: 2512922.8354194\ttotal: 996ms\tremaining: 123ms\n",
            "89:\tlearn: 2508284.9415617\ttotal: 1.01s\tremaining: 112ms\n",
            "90:\tlearn: 2502562.1155277\ttotal: 1.02s\tremaining: 101ms\n",
            "91:\tlearn: 2499930.0708968\ttotal: 1.04s\tremaining: 90.9ms\n",
            "92:\tlearn: 2494995.2882791\ttotal: 1.06s\tremaining: 79.5ms\n",
            "93:\tlearn: 2491082.7622670\ttotal: 1.07s\tremaining: 68.1ms\n",
            "94:\tlearn: 2487103.5673889\ttotal: 1.08s\tremaining: 56.9ms\n",
            "95:\tlearn: 2484168.7541724\ttotal: 1.09s\tremaining: 45.5ms\n",
            "96:\tlearn: 2482094.3556651\ttotal: 1.1s\tremaining: 34.2ms\n",
            "97:\tlearn: 2478619.3750173\ttotal: 1.12s\tremaining: 22.8ms\n",
            "98:\tlearn: 2476309.4911642\ttotal: 1.13s\tremaining: 11.4ms\n",
            "99:\tlearn: 2471729.5132988\ttotal: 1.15s\tremaining: 0us\n"
          ]
        },
        {
          "data": {
            "text/plain": [
              "HuberRegressor(alpha=0.9, max_iter=200)"
            ]
          },
          "execution_count": 139,
          "metadata": {},
          "output_type": "execute_result"
        }
      ],
      "source": [
        "cat_invest.fit(X_inv_train, y_inv_train)\n",
        "hreg_invest.fit(scaler.fit_transform(X_inv_train), y_inv_train)"
      ]
    },
    {
      "cell_type": "code",
      "execution_count": null,
      "metadata": {
        "id": "jDex-zLPyEJJ"
      },
      "outputs": [],
      "source": [
        "cat_pred_inv_v2 = cat_invest.predict(X_inv_test)\n",
        "hreg_pred_inv_v2 = hreg_invest.predict(scaler.transform(X_inv_test))"
      ]
    },
    {
      "cell_type": "code",
      "execution_count": null,
      "metadata": {
        "id": "4h1DNwuGyEJJ"
      },
      "outputs": [],
      "source": [
        "k = 1 # при переборе получилось так, что минимальный RMSE достигается при использовании только catboost"
      ]
    },
    {
      "cell_type": "code",
      "execution_count": null,
      "metadata": {
        "id": "DxSvPGdUyEJJ"
      },
      "outputs": [],
      "source": [
        "pred_inv_v2 = k * cat_pred_inv_v2 + (1 - k) * hreg_pred_inv_v2\n",
        "pred_v2 = pd.concat((pd.Series(pred_inv_v2), pd.Series(pred_own_cat)))"
      ]
    },
    {
      "cell_type": "code",
      "execution_count": null,
      "metadata": {
        "id": "vT6BOlW3yEJJ",
        "outputId": "dbef83f2-d5ec-422e-e10d-17dc1f0481eb"
      },
      "outputs": [
        {
          "data": {
            "text/plain": [
              "2260740.682680031"
            ]
          },
          "execution_count": 155,
          "metadata": {},
          "output_type": "execute_result"
        }
      ],
      "source": [
        "mean_squared_error(pred_v2, y_test_full, squared=False)"
      ]
    },
    {
      "cell_type": "markdown",
      "metadata": {
        "id": "HodmmbnWyEJJ"
      },
      "source": [
        "Таким образом, наилучшей моделью оказался ансамбль CatBoostRegressor'ов, обученных отдельно для Investment и OwnerOccupier"
      ]
    }
  ],
  "metadata": {
    "colab": {
      "provenance": []
    },
    "kernelspec": {
      "display_name": "Python 3",
      "language": "python",
      "name": "python3"
    },
    "language_info": {
      "codemirror_mode": {
        "name": "ipython",
        "version": 3
      },
      "file_extension": ".py",
      "mimetype": "text/x-python",
      "name": "python",
      "nbconvert_exporter": "python",
      "pygments_lexer": "ipython3",
      "version": "3.6.10"
    }
  },
  "nbformat": 4,
  "nbformat_minor": 0
}
