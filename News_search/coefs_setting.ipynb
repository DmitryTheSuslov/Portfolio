{
 "cells": [
  {
   "cell_type": "code",
   "execution_count": 4,
   "metadata": {},
   "outputs": [],
   "source": [
    "from metrics import mapk\n",
    "from my_search import get_word_info, upd_str, build_index, score, retrieve\n",
    "import pickle\n",
    "import numpy as np"
   ]
  },
  {
   "cell_type": "code",
   "execution_count": 2,
   "metadata": {},
   "outputs": [],
   "source": [
    "with open('markup_queries.pkl', 'rb') as f:\n",
    "    markup_queries = pickle.load(f)"
   ]
  },
  {
   "cell_type": "code",
   "execution_count": 3,
   "metadata": {},
   "outputs": [],
   "source": [
    "build_index()"
   ]
  },
  {
   "cell_type": "code",
   "execution_count": 5,
   "metadata": {},
   "outputs": [],
   "source": [
    "actual = np.array(list(markup_queries.values()))"
   ]
  },
  {
   "cell_type": "markdown",
   "metadata": {},
   "source": [
    "# Подбор функции score и ее параметров"
   ]
  },
  {
   "cell_type": "code",
   "execution_count": 9,
   "metadata": {},
   "outputs": [
    {
     "name": "stdout",
     "output_type": "stream",
     "text": [
      "k1: 0.5\n",
      "k2: 0.5\n",
      "mapk@5: 0.03633333333333333\n",
      "mapk@10: 0.05462301587301588\n",
      "mapk@30: 0.029670913734438552\n",
      "k1: 0.5\n",
      "k2: 0.7\n",
      "mapk@5: 0.058333333333333334\n",
      "mapk@10: 0.04143650793650793\n",
      "mapk@30: 0.02852583915057678\n",
      "k1: 0.5\n",
      "k2: 1\n",
      "mapk@5: 0.03333333333333333\n",
      "mapk@10: 0.037658730158730155\n",
      "mapk@30: 0.024028029928673724\n",
      "k1: 0.5\n",
      "k2: 1.3\n",
      "mapk@5: 0.03333333333333333\n",
      "mapk@10: 0.031742063492063495\n",
      "mapk@30: 0.022284336053261883\n",
      "k1: 0.7\n",
      "k2: 0.5\n",
      "mapk@5: 0.027666666666666666\n",
      "mapk@10: 0.04962301587301587\n",
      "mapk@30: 0.028644466242292332\n",
      "k1: 0.7\n",
      "k2: 0.7\n",
      "mapk@5: 0.03633333333333333\n",
      "mapk@10: 0.05462301587301588\n",
      "mapk@30: 0.029670913734438552\n",
      "k1: 0.7\n",
      "k2: 1\n",
      "mapk@5: 0.05033333333333334\n",
      "mapk@10: 0.04076984126984127\n",
      "mapk@30: 0.028163096529213467\n",
      "k1: 0.7\n",
      "k2: 1.3\n",
      "mapk@5: 0.03333333333333333\n",
      "mapk@10: 0.037865079365079365\n",
      "mapk@30: 0.024557130457774252\n",
      "k1: 1\n",
      "k2: 0.5\n",
      "mapk@5: 0.029666666666666664\n",
      "mapk@10: 0.052015873015873015\n",
      "mapk@30: 0.029578448926275015\n",
      "k1: 1\n",
      "k2: 0.7\n",
      "mapk@5: 0.027666666666666666\n",
      "mapk@10: 0.04962301587301587\n",
      "mapk@30: 0.02861668846451455\n",
      "k1: 1\n",
      "k2: 1\n",
      "mapk@5: 0.03633333333333333\n",
      "mapk@10: 0.05462301587301588\n",
      "mapk@30: 0.029670913734438552\n",
      "k1: 1\n",
      "k2: 1.3\n",
      "mapk@5: 0.043\n",
      "mapk@10: 0.046992063492063495\n",
      "mapk@30: 0.028921478133172286\n",
      "k1: 1.3\n",
      "k2: 0.5\n",
      "mapk@5: 0.029666666666666664\n",
      "mapk@10: 0.05901587301587301\n",
      "mapk@30: 0.02991539941539941\n",
      "k1: 1.3\n",
      "k2: 0.7\n",
      "mapk@5: 0.029666666666666664\n",
      "mapk@10: 0.051837301587301585\n",
      "mapk@30: 0.0295189251167512\n",
      "k1: 1.3\n",
      "k2: 1\n",
      "mapk@5: 0.031\n",
      "mapk@10: 0.05128968253968254\n",
      "mapk@30: 0.029231767829593913\n",
      "k1: 1.3\n",
      "k2: 1.3\n",
      "mapk@5: 0.03633333333333333\n",
      "mapk@10: 0.05462301587301588\n",
      "mapk@30: 0.029670913734438552\n"
     ]
    }
   ],
   "source": [
    "res = {}\n",
    "candidates_list = []\n",
    "for query in markup_queries.keys():\n",
    "    candidates_list.append(retrieve(query))\n",
    "\n",
    "\n",
    "# пробуем разные вариации score, подбираем коэффициенты\n",
    "# для оценки используем apk@5, apk@10, apk@30, т. к. значение score находятся в разных диапазонах в зависимости от параметров, что делает бессмсленным использование DCG \n",
    "for k1 in [0.5, 0.7, 1, 1.3]:\n",
    "    for k2 in [0.5, 0.7, 1, 1.3]:\n",
    "        predicted = np.zeros((10, 100))\n",
    "        for i, candidates in enumerate(candidates_list):\n",
    "            predicted[i] = np.array([document.id for document in sorted(candidates, key = lambda x: -score(list(markup_queries.keys())[i], x, (k1, k2)))][:100])\n",
    "        # print(predicted)\n",
    "        print(f'k1: {k1}\\nk2: {k2}')\n",
    "        t_res = []\n",
    "        for k in [5, 10, 30]:\n",
    "            metr = mapk(actual, predicted, k)\n",
    "            t_res.append(metr)\n",
    "            print(f'mapk@{k}: {metr}')\n",
    "\n",
    "        res[(k1, k2)] = t_res\n"
   ]
  },
  {
   "cell_type": "code",
   "execution_count": 10,
   "metadata": {},
   "outputs": [
    {
     "name": "stdout",
     "output_type": "stream",
     "text": [
      "(0.5, 0.7) [0.058333333333333334, 0.04143650793650793, 0.02852583915057678]\n",
      "(1.3, 0.5) [0.029666666666666664, 0.05901587301587301, 0.02991539941539941]\n",
      "(1.3, 0.5) [0.029666666666666664, 0.05901587301587301, 0.02991539941539941]\n"
     ]
    }
   ],
   "source": [
    "print(max(res.keys(), key=lambda x: res[x][0]), res[max(res.keys(), key=lambda x: res[x][0])])\n",
    "print(max(res.keys(), key=lambda x: res[x][1]), res[max(res.keys(), key=lambda x: res[x][1])])\n",
    "print(max(res.keys(), key=lambda x: res[x][2]), res[max(res.keys(), key=lambda x: res[x][2])])"
   ]
  },
  {
   "cell_type": "code",
   "execution_count": null,
   "metadata": {},
   "outputs": [],
   "source": []
  }
 ],
 "metadata": {
  "interpreter": {
   "hash": "b3ba2566441a7c06988d0923437866b63cedc61552a5af99d1f4fb67d367b25f"
  },
  "kernelspec": {
   "display_name": "Python 3.9.7 ('base')",
   "language": "python",
   "name": "python3"
  },
  "language_info": {
   "codemirror_mode": {
    "name": "ipython",
    "version": 3
   },
   "file_extension": ".py",
   "mimetype": "text/x-python",
   "name": "python",
   "nbconvert_exporter": "python",
   "pygments_lexer": "ipython3",
   "version": "3.9.7"
  },
  "orig_nbformat": 4
 },
 "nbformat": 4,
 "nbformat_minor": 2
}
